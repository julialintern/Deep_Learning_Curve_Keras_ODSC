{
 "cells": [
  {
   "cell_type": "markdown",
   "metadata": {},
   "source": [
    "## Deep-Learning Dive with Keras!\n"
   ]
  },
  {
   "cell_type": "markdown",
   "metadata": {},
   "source": [
    "##  Set-up  "
   ]
  },
  {
   "cell_type": "markdown",
   "metadata": {},
   "source": [
    "### 1) Python Installs: \n",
    "Please note, that we'll need several packages installed on your laptop. \n",
    "If you haven't performed installs yet, here are some steps to follow: \n",
    "\n",
    "Create a conda environment (see reference here for 1st 3 steps as follows):  \n",
    "\n",
    "1. conda create -n mypython3 python=3    \n",
    "2. source activate mypython3   \n",
    "3. conda install anaconda     \n",
    "\n",
    "Then install additional packages:    \n",
    "a ) conda install -c conda-forge keras     \n",
    "b) conda install -c conda-forge theano   \n",
    "c) pip install pydot-ng      \n",
    "d) brew install graphviz  (refer here if you need to install home-brew: https://brew.sh)     \n",
    "e) pip install pydot     \n",
    "f) conda install -c anaconda gevent        \n",
    "g) conda install -c anaconda requests      \n",
    "\n",
    "Lastly: \n",
    "Download weights for our CNN model from:   \n",
    "https://github.com/fchollet/deep-learning-models/releases/download/v0.1/vgg16_weights_tf_dim_ordering_tf_kernels.h5   \n",
    "\n"
   ]
  },
  {
   "cell_type": "markdown",
   "metadata": {
    "collapsed": true
   },
   "source": [
    "### 2) Git Clone:\n",
    "- Please git clone the workshop repo : https://github.com/julialintern/Deep_Learning_Curve_Keras_ODSC  "
   ]
  },
  {
   "cell_type": "markdown",
   "metadata": {
    "collapsed": true
   },
   "source": [
    "### 3) Testing:\n",
    "#### Launch jupyter notebook\n"
   ]
  },
  {
   "cell_type": "code",
   "execution_count": 8,
   "metadata": {
    "collapsed": true
   },
   "outputs": [],
   "source": [
    "# once in your notebook, test:\n",
    "import keras"
   ]
  },
  {
   "cell_type": "code",
   "execution_count": null,
   "metadata": {
    "collapsed": true
   },
   "outputs": [],
   "source": []
  }
 ],
 "metadata": {
  "kernelspec": {
   "display_name": "Python 2",
   "language": "python",
   "name": "python2"
  },
  "language_info": {
   "codemirror_mode": {
    "name": "ipython",
    "version": 2
   },
   "file_extension": ".py",
   "mimetype": "text/x-python",
   "name": "python",
   "nbconvert_exporter": "python",
   "pygments_lexer": "ipython2",
   "version": "2.7.12"
  }
 },
 "nbformat": 4,
 "nbformat_minor": 2
}
